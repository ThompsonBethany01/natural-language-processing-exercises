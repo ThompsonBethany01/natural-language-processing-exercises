{
 "cells": [
  {
   "cell_type": "markdown",
   "metadata": {},
   "source": [
    "# Walking through Curriculum Example"
   ]
  },
  {
   "cell_type": "code",
   "execution_count": 71,
   "metadata": {},
   "outputs": [],
   "source": [
    "import pandas as pd\n",
    "from requests import get\n",
    "from bs4 import BeautifulSoup\n",
    "import os"
   ]
  },
  {
   "cell_type": "code",
   "execution_count": 11,
   "metadata": {},
   "outputs": [],
   "source": [
    "url = 'https://codeup.com/codeups-data-science-career-accelerator-is-here/'\n",
    "headers = {'User-Agent': 'Codeup Data Science'} # Some websites don't accept the pyhon-requests default user-agent\n",
    "response = get(url, headers=headers)"
   ]
  },
  {
   "cell_type": "code",
   "execution_count": 12,
   "metadata": {},
   "outputs": [
    {
     "name": "stdout",
     "output_type": "stream",
     "text": [
      "<!DOCTYPE html><html lang=\"en-US\"><head >\t<meta charset=\"UTF-8\" />\n",
      "\t<meta name=\"viewport\" content=\"width=device-width, initial-scale=1\" />\n",
      "\t\n",
      "\t<!-- This site is optimized with the Yoast SEO plugin v15.2 - https://yoast.com/wordpress/plugins/seo/ -->\n",
      "\t<title>Codeup’s Data Science Career Accelerator is Here! - Codeup</title>\n",
      "\t<meta name=\"description\" content=\"The rumors are true! The time has arrived\n"
     ]
    }
   ],
   "source": [
    "print(response.text[:400])"
   ]
  },
  {
   "cell_type": "code",
   "execution_count": 13,
   "metadata": {},
   "outputs": [],
   "source": [
    "# Make a soup variable holding the response content\n",
    "soup = BeautifulSoup(response.content, 'html.parser')"
   ]
  },
  {
   "cell_type": "markdown",
   "metadata": {},
   "source": [
    "## Beautiful Soup Methods and Properties\n",
    "\n",
    "```soup.title.string``` gets the page's title (the same text in the browser tab for a page, this is the ```<title>``` element\n",
    "    \n",
    "```soup.prettify()``` is useful to print in case you want to see the HTML\n",
    "    \n",
    "```soup.find_all(\"a\")``` find all the anchor tags, or whatever argument is specified.\n",
    "    \n",
    "```soup.find(\"h1\")``` finds the first matching element\n",
    "    \n",
    "```soup.get_text()``` gets the text from within a matching piece of soup/HTML\n",
    "    \n",
    "The soup.select() method takes in a CSS selector as a string and returns all matching elements. super useful"
   ]
  },
  {
   "cell_type": "code",
   "execution_count": 37,
   "metadata": {
    "collapsed": true
   },
   "outputs": [
    {
     "data": {
      "text/plain": [
       "'The rumors are true! The time has arrived. Codeup has officially opened applications to our new Data Science career accelerator, with only 25 seats available! This immersive program is one of a kind in San Antonio, and will help you land a job in\\xa0Glassdoor’s #1 Best Job in America.\\nData Science is a method of providing actionable intelligence from data.\\xa0The data revolution has hit San Antonio,\\xa0resulting in an explosion in Data Scientist positions\\xa0across companies like USAA, Accenture, Booz Allen Hamilton, and HEB. We’ve even seen\\xa0UTSA invest $70 M for a Cybersecurity Center and School of Data Science.\\xa0We built a program to specifically meet the growing demands of this industry.\\nOur program will be 18 weeks long, full-time, hands-on, and project-based. Our curriculum development and instruction is led by Senior Data Scientist, Maggie Giust, who has worked at HEB, Capital Group, and Rackspace, along with input from dozens of practitioners and hiring partners. Students will work with real data sets, realistic problems, and the entire data science pipeline from collection to deployment. They will receive professional development training in resume writing, interviewing, and continuing education to prepare for a smooth transition to the workforce.\\nWe focus on applied data science for immediate impact and ROI in a business, which is how we can back it all up with a 6 month tuition refund guarantee – just like our existing Web Dev program. We’re focusing on Data Science with Python, SQL, and ML, covered in\\xa014 modules: 1) Fundamentals; 2) Applied statistics; 3) SQL; 4) Python; 5) Supervised machine learning – regression; 6) Supervised machine learning – classification; 7) Unsupervised machine learning – clustering; 8) Time series analysis; 9) Anomaly detection; 10) Natural language processing; 11) Distributed machine learning; 12) Advanced topics (deep learning, NoSQL, cloud deployment, etc.); 13) Storytelling with data; and 14) Domain expertise development.\\nApplications are now open\\xa0for Codeup’s first Data Science cohort, which will start class on February 4, 2019. Hurry – there are only 25 seats available! To further our mission of cultivating inclusive growth, scholarships will be available to women, minorities, LGBTQIA+ individuals, veterans, first responders, and people relocating to San Antonio.\\nIf you want to learn about joining our program or hiring our graduates, email datascience@codeup.com!\\n\\n'"
      ]
     },
     "execution_count": 37,
     "metadata": {},
     "output_type": "execute_result"
    }
   ],
   "source": [
    "# see also `soup.find_all`\n",
    "#\n",
    "# beautiful soup uses `class_` as the keyword argument for searching\n",
    "# for a class because `class` is a reserved word in python\n",
    "# we'll use the class name that we identified from looking in the inspector in chrome\n",
    "article = soup.find('div', class_='jupiterx-post-content')\n",
    "article.text"
   ]
  },
  {
   "cell_type": "code",
   "execution_count": 44,
   "metadata": {},
   "outputs": [
    {
     "data": {
      "text/plain": [
       "'Skip to content'"
      ]
     },
     "execution_count": 44,
     "metadata": {},
     "output_type": "execute_result"
    }
   ],
   "source": [
    "soup.find('a').text"
   ]
  },
  {
   "cell_type": "code",
   "execution_count": 15,
   "metadata": {},
   "outputs": [],
   "source": [
    "with open('article.txt', 'w') as f:\n",
    "    f.write(article.text)"
   ]
  },
  {
   "cell_type": "code",
   "execution_count": 16,
   "metadata": {},
   "outputs": [],
   "source": [
    "def get_article_text():\n",
    "    # if we already have the data, read it locally\n",
    "    if path.exists('article.txt'):\n",
    "        with open('article.txt') as f:\n",
    "            return f.read()\n",
    "\n",
    "    # otherwise go fetch the data\n",
    "    url = 'https://codeup.com/codeups-data-science-career-accelerator-is-here/'\n",
    "    headers = {'User-Agent': 'Codeup Data Science'}\n",
    "    response = get(url, headers=headers)\n",
    "    soup = BeautifulSoup(response.text)\n",
    "    article = soup.find('div', class_='jupiterx-post-content')\n",
    "\n",
    "    # save it for next time\n",
    "    with open('article.txt', 'w') as f:\n",
    "        f.write(article.text)\n",
    "\n",
    "    return article.text"
   ]
  },
  {
   "cell_type": "markdown",
   "metadata": {},
   "source": [
    "# Exercises\n",
    "1. Codeup Blog Articles: Scrape the article text from the following pages:\n",
    "    - https://codeup.com/codeups-data-science-career-accelerator-is-here/\n",
    "    - https://codeup.com/data-science-myths/\n",
    "    - https://codeup.com/data-science-vs-data-analytics-whats-the-difference/\n",
    "    - https://codeup.com/10-tips-to-crush-it-at-the-sa-tech-job-fair/\n",
    "    - https://codeup.com/competitor-bootcamps-are-closing-is-the-model-in-danger/  \n",
    "    \n",
    "Encapsulate your work in a function named get_blog_articles that will return a list of dictionaries, with each dictionary representing one article. The shape of each dictionary should look like this:\n",
    "\n",
    "```\n",
    "{\n",
    "    'title': 'the title of the article',\n",
    "    'content': 'the full text content of the article'\n",
    "}\n",
    "``` \n",
    "\n",
    "Plus any additional properties you think might be helpful.\n",
    "\n",
    "Bonus:\n",
    "\n",
    "Scrape the text of all the articles linked on codeup's blog page."
   ]
  },
  {
   "cell_type": "code",
   "execution_count": 53,
   "metadata": {},
   "outputs": [],
   "source": [
    "# otherwise go fetch the data\n",
    "url = 'https://codeup.com/codeups-data-science-career-accelerator-is-here/'\n",
    "headers = {'User-Agent': 'Codeup Data Science'}\n",
    "response = get(url, headers=headers)\n",
    "soup = BeautifulSoup(response.text)\n",
    "article = soup.find('div', class_='jupiterx-post-content')\n",
    "\n",
    "article_dict = {'title':[], 'content':[]}"
   ]
  },
  {
   "cell_type": "code",
   "execution_count": 54,
   "metadata": {},
   "outputs": [
    {
     "data": {
      "text/plain": [
       "'Codeup’s Data Science Career Accelerator is Here! - Codeup'"
      ]
     },
     "execution_count": 54,
     "metadata": {},
     "output_type": "execute_result"
    }
   ],
   "source": [
    "soup.title.string"
   ]
  },
  {
   "cell_type": "code",
   "execution_count": 55,
   "metadata": {},
   "outputs": [],
   "source": [
    "article_dict['title'] = soup.title.string"
   ]
  },
  {
   "cell_type": "code",
   "execution_count": 56,
   "metadata": {},
   "outputs": [],
   "source": [
    "article_dict['content'] = article.text"
   ]
  },
  {
   "cell_type": "code",
   "execution_count": 57,
   "metadata": {
    "collapsed": true
   },
   "outputs": [
    {
     "data": {
      "text/plain": [
       "{'title': 'Codeup’s Data Science Career Accelerator is Here! - Codeup',\n",
       " 'content': 'The rumors are true! The time has arrived. Codeup has officially opened applications to our new Data Science career accelerator, with only 25 seats available! This immersive program is one of a kind in San Antonio, and will help you land a job in\\xa0Glassdoor’s #1 Best Job in America.\\nData Science is a method of providing actionable intelligence from data.\\xa0The data revolution has hit San Antonio,\\xa0resulting in an explosion in Data Scientist positions\\xa0across companies like USAA, Accenture, Booz Allen Hamilton, and HEB. We’ve even seen\\xa0UTSA invest $70 M for a Cybersecurity Center and School of Data Science.\\xa0We built a program to specifically meet the growing demands of this industry.\\nOur program will be 18 weeks long, full-time, hands-on, and project-based. Our curriculum development and instruction is led by Senior Data Scientist, Maggie Giust, who has worked at HEB, Capital Group, and Rackspace, along with input from dozens of practitioners and hiring partners. Students will work with real data sets, realistic problems, and the entire data science pipeline from collection to deployment. They will receive professional development training in resume writing, interviewing, and continuing education to prepare for a smooth transition to the workforce.\\nWe focus on applied data science for immediate impact and ROI in a business, which is how we can back it all up with a 6 month tuition refund guarantee – just like our existing Web Dev program. We’re focusing on Data Science with Python, SQL, and ML, covered in\\xa014 modules: 1) Fundamentals; 2) Applied statistics; 3) SQL; 4) Python; 5) Supervised machine learning – regression; 6) Supervised machine learning – classification; 7) Unsupervised machine learning – clustering; 8) Time series analysis; 9) Anomaly detection; 10) Natural language processing; 11) Distributed machine learning; 12) Advanced topics (deep learning, NoSQL, cloud deployment, etc.); 13) Storytelling with data; and 14) Domain expertise development.\\nApplications are now open\\xa0for Codeup’s first Data Science cohort, which will start class on February 4, 2019. Hurry – there are only 25 seats available! To further our mission of cultivating inclusive growth, scholarships will be available to women, minorities, LGBTQIA+ individuals, veterans, first responders, and people relocating to San Antonio.\\nIf you want to learn about joining our program or hiring our graduates, email datascience@codeup.com!\\n\\n'}"
      ]
     },
     "execution_count": 57,
     "metadata": {},
     "output_type": "execute_result"
    }
   ],
   "source": [
    "article_dict"
   ]
  },
  {
   "cell_type": "code",
   "execution_count": 74,
   "metadata": {},
   "outputs": [],
   "source": [
    "def get_blog_articles(urls, cached = False):\n",
    "    \n",
    "    # if we already have the data and cached == True, read it locally\n",
    "    if cached == True:\n",
    "        df = pd.read_json('blogs.json')\n",
    "    \n",
    "    # if we don't have the data or we want to resave with any new data\n",
    "    else:\n",
    "        blogs = []\n",
    "    \n",
    "        # loops through urls passed in function\n",
    "        for blog in urls:\n",
    "\n",
    "            # web scraping\n",
    "            headers = {'User-Agent': 'Codeup Data Science'}\n",
    "            response = get(blog, headers=headers)\n",
    "            # takes URL and returns a soup object of the text\n",
    "            soup = BeautifulSoup(response.text)\n",
    "            article = soup.find('div', class_='jupiterx-post-content')\n",
    "\n",
    "            # creates empty dictionary to hold the article title and content\n",
    "            article_dict = {'title':[], 'content':[]}\n",
    "            # adds title to dict\n",
    "            article_dict['title'] = soup.title.string\n",
    "            # adds article to dict\n",
    "            article_dict['content'] = article.text\n",
    "        \n",
    "            # adds this dict of the article to the blog list\n",
    "            blogs.append(article_dict)\n",
    "        \n",
    "        # save it for next time\n",
    "        blogs = pd.DataFrame(blogs)\n",
    "        blogs.to_json('blogs.json')\n",
    "        \n",
    "    return blogs"
   ]
  },
  {
   "cell_type": "code",
   "execution_count": 75,
   "metadata": {},
   "outputs": [
    {
     "data": {
      "text/html": [
       "<div>\n",
       "<style scoped>\n",
       "    .dataframe tbody tr th:only-of-type {\n",
       "        vertical-align: middle;\n",
       "    }\n",
       "\n",
       "    .dataframe tbody tr th {\n",
       "        vertical-align: top;\n",
       "    }\n",
       "\n",
       "    .dataframe thead th {\n",
       "        text-align: right;\n",
       "    }\n",
       "</style>\n",
       "<table border=\"1\" class=\"dataframe\">\n",
       "  <thead>\n",
       "    <tr style=\"text-align: right;\">\n",
       "      <th></th>\n",
       "      <th>title</th>\n",
       "      <th>content</th>\n",
       "    </tr>\n",
       "  </thead>\n",
       "  <tbody>\n",
       "    <tr>\n",
       "      <th>0</th>\n",
       "      <td>Codeup’s Data Science Career Accelerator is He...</td>\n",
       "      <td>The rumors are true! The time has arrived. Cod...</td>\n",
       "    </tr>\n",
       "    <tr>\n",
       "      <th>1</th>\n",
       "      <td>Data Science Myths - Codeup</td>\n",
       "      <td>By Dimitri Antoniou and Maggie Giust\\nData Sci...</td>\n",
       "    </tr>\n",
       "    <tr>\n",
       "      <th>2</th>\n",
       "      <td>Data Science VS Data Analytics: What’s The Dif...</td>\n",
       "      <td>By Dimitri Antoniou\\nA week ago, Codeup launch...</td>\n",
       "    </tr>\n",
       "    <tr>\n",
       "      <th>3</th>\n",
       "      <td>10 Tips to Crush It at the SA Tech Job Fair - ...</td>\n",
       "      <td>SA Tech Job Fair\\nThe third bi-annual San Anto...</td>\n",
       "    </tr>\n",
       "    <tr>\n",
       "      <th>4</th>\n",
       "      <td>Competitor Bootcamps Are Closing. Is the Model...</td>\n",
       "      <td>Competitor Bootcamps Are Closing. Is the Model...</td>\n",
       "    </tr>\n",
       "  </tbody>\n",
       "</table>\n",
       "</div>"
      ],
      "text/plain": [
       "                                               title  \\\n",
       "0  Codeup’s Data Science Career Accelerator is He...   \n",
       "1                        Data Science Myths - Codeup   \n",
       "2  Data Science VS Data Analytics: What’s The Dif...   \n",
       "3  10 Tips to Crush It at the SA Tech Job Fair - ...   \n",
       "4  Competitor Bootcamps Are Closing. Is the Model...   \n",
       "\n",
       "                                             content  \n",
       "0  The rumors are true! The time has arrived. Cod...  \n",
       "1  By Dimitri Antoniou and Maggie Giust\\nData Sci...  \n",
       "2  By Dimitri Antoniou\\nA week ago, Codeup launch...  \n",
       "3  SA Tech Job Fair\\nThe third bi-annual San Anto...  \n",
       "4  Competitor Bootcamps Are Closing. Is the Model...  "
      ]
     },
     "execution_count": 75,
     "metadata": {},
     "output_type": "execute_result"
    }
   ],
   "source": [
    "urls = ['https://codeup.com/codeups-data-science-career-accelerator-is-here/',\n",
    "        'https://codeup.com/data-science-myths/',\n",
    "        'https://codeup.com/data-science-vs-data-analytics-whats-the-difference/',\n",
    "        'https://codeup.com/10-tips-to-crush-it-at-the-sa-tech-job-fair/',\n",
    "        'https://codeup.com/competitor-bootcamps-are-closing-is-the-model-in-danger/']\n",
    "\n",
    "get_blog_articles(urls)"
   ]
  },
  {
   "cell_type": "code",
   "execution_count": 76,
   "metadata": {},
   "outputs": [
    {
     "data": {
      "text/html": [
       "<div>\n",
       "<style scoped>\n",
       "    .dataframe tbody tr th:only-of-type {\n",
       "        vertical-align: middle;\n",
       "    }\n",
       "\n",
       "    .dataframe tbody tr th {\n",
       "        vertical-align: top;\n",
       "    }\n",
       "\n",
       "    .dataframe thead th {\n",
       "        text-align: right;\n",
       "    }\n",
       "</style>\n",
       "<table border=\"1\" class=\"dataframe\">\n",
       "  <thead>\n",
       "    <tr style=\"text-align: right;\">\n",
       "      <th></th>\n",
       "      <th>title</th>\n",
       "      <th>content</th>\n",
       "    </tr>\n",
       "  </thead>\n",
       "  <tbody>\n",
       "    <tr>\n",
       "      <th>0</th>\n",
       "      <td>Codeup’s Data Science Career Accelerator is He...</td>\n",
       "      <td>The rumors are true! The time has arrived. Cod...</td>\n",
       "    </tr>\n",
       "    <tr>\n",
       "      <th>1</th>\n",
       "      <td>Data Science Myths - Codeup</td>\n",
       "      <td>By Dimitri Antoniou and Maggie Giust\\nData Sci...</td>\n",
       "    </tr>\n",
       "    <tr>\n",
       "      <th>2</th>\n",
       "      <td>Data Science VS Data Analytics: What’s The Dif...</td>\n",
       "      <td>By Dimitri Antoniou\\nA week ago, Codeup launch...</td>\n",
       "    </tr>\n",
       "    <tr>\n",
       "      <th>3</th>\n",
       "      <td>10 Tips to Crush It at the SA Tech Job Fair - ...</td>\n",
       "      <td>SA Tech Job Fair\\nThe third bi-annual San Anto...</td>\n",
       "    </tr>\n",
       "    <tr>\n",
       "      <th>4</th>\n",
       "      <td>Competitor Bootcamps Are Closing. Is the Model...</td>\n",
       "      <td>Competitor Bootcamps Are Closing. Is the Model...</td>\n",
       "    </tr>\n",
       "  </tbody>\n",
       "</table>\n",
       "</div>"
      ],
      "text/plain": [
       "                                               title  \\\n",
       "0  Codeup’s Data Science Career Accelerator is He...   \n",
       "1                        Data Science Myths - Codeup   \n",
       "2  Data Science VS Data Analytics: What’s The Dif...   \n",
       "3  10 Tips to Crush It at the SA Tech Job Fair - ...   \n",
       "4  Competitor Bootcamps Are Closing. Is the Model...   \n",
       "\n",
       "                                             content  \n",
       "0  The rumors are true! The time has arrived. Cod...  \n",
       "1  By Dimitri Antoniou and Maggie Giust\\nData Sci...  \n",
       "2  By Dimitri Antoniou\\nA week ago, Codeup launch...  \n",
       "3  SA Tech Job Fair\\nThe third bi-annual San Anto...  \n",
       "4  Competitor Bootcamps Are Closing. Is the Model...  "
      ]
     },
     "execution_count": 76,
     "metadata": {},
     "output_type": "execute_result"
    }
   ],
   "source": [
    "pd.read_json('blogs.json')"
   ]
  },
  {
   "cell_type": "markdown",
   "metadata": {},
   "source": [
    "2. News Articles\n",
    "\n",
    "We will now be scraping text data from inshorts, a website that provides a brief overview of many different topics.\n",
    "\n",
    "Write a function that scrapes the news articles for the following topics:\n",
    "\n",
    "- Business\n",
    "- Sports\n",
    "- Technology\n",
    "- Entertainment\n",
    "- The end product of this should be a function named get_news_articles that returns a list of dictionaries, where each dictionary has this shape:\n",
    "\n",
    "```\n",
    "{\n",
    "    'title': 'The article title',\n",
    "    'content': 'The article content',\n",
    "    'category': 'business' # for example\n",
    "}\n",
    "```\n",
    "\n",
    "Hints:\n",
    "\n",
    "- Start by inspecting the website in your browser. Figure out which elements will be useful.\n",
    "- Start by creating a function that handles a single article and produces a dictionary like the one above.\n",
    "- Next create a function that will find all the articles on a single page and call the function you created in the last step for every article on the page.\n",
    "- Now create a function that will use the previous two functions to scrape the articles from all the pages that you need, and do any additional processing that needs to be done."
   ]
  },
  {
   "cell_type": "code",
   "execution_count": 119,
   "metadata": {},
   "outputs": [],
   "source": [
    "response = get('https://inshorts.com/en/news/modernas-early-data-shows-its-covid19-vaccine-is-945-effective-1605529838483', headers={'User-Agent': 'Inshorts'})"
   ]
  },
  {
   "cell_type": "code",
   "execution_count": 120,
   "metadata": {},
   "outputs": [
    {
     "data": {
      "text/plain": [
       "True"
      ]
     },
     "execution_count": 120,
     "metadata": {},
     "output_type": "execute_result"
    }
   ],
   "source": [
    "response.ok"
   ]
  },
  {
   "cell_type": "code",
   "execution_count": 121,
   "metadata": {
    "collapsed": true
   },
   "outputs": [
    {
     "data": {
      "text/plain": [
       "'<!doctype html>\\n<html lang=\"en\">\\n\\n<head>\\n  <meta charset=\"utf-8\" />\\n  <style>\\n    /* The Modal (background) */\\n    .modal_contact {\\n        display: none; /* Hidden by default */\\n        position: fixed; /* Stay in place */\\n        z-index: 8; /* Sit on top */\\n        left: 0;\\n        top: 0;\\n        width: 100%; /* Full width */\\n        height: 100%;\\n        overflow: auto; /* Enable scroll if needed */\\n        background-color: rgb(0,0,0); /* Fallback color */\\n        background-color: rgba(0,0,0,0.4); /* Black w/ opacity */\\n    }\\n\\n    /* Modal Content/Box */\\n    .modal-content {\\n        background-color: #fefefe;\\n        margin: 15% auto;\\n        padding: 20px !important;\\n        padding-top: 0 !important;\\n        /* border: 1px solid #888; */\\n        text-align: center;\\n        position: relative;\\n        border-radius: 6px;\\n    }\\n\\n    /* The Close Button */\\n    .close {\\n      left: 90%;\\n      color: #aaa;\\n      float: right;\\n      font-size: 28px;\\n      font-weight: bold;\\n    /* position: absolute; */\\n    /* bottom: 86%; */\\n    /* display: inline-block; */\\n    /* padding-left: 5%; */\\n    }\\n\\n    .close:hover,\\n    .close:focus {\\n        color: black;\\n        text-decoration: none;\\n        cursor: pointer;\\n    }\\n\\n    #myBtn {\\n      background: #999999;\\n      color: #ffffff;\\n      text-transform: uppercase;\\n      font-weight: bold;\\n      box-shadow: none;\\n      border-radius: 4px;\\n      border: none;\\n      font-size: .8rem;\\n      /* width: 8rem; */\\n      height: 2rem;\\n      line-height: 2rem;\\n    }\\n\\n    .contact {\\n      margin-bottom: 4%;\\n      clear: both;\\n    }\\n  </style>\\n    \\n  <meta http-equiv=\"Content-Type\" content=\"text/html; charset=UTF-8\"/>\\n  <meta name=\"viewport\" content=\"width=device-width, initial-scale=1, maximum-scale=1.0, user-scalable=no\"/>\\n\\n  <meta http-equiv=\"X-UA-Compatible\" content=\"IE=edge\">\\n  <link rel=\"manifest\" href=\"manifest.json\">\\n\\n  <!-- Fallback to homescreen for Chrome   <39 on Android -->\\n  <meta name=\"mobile-web-app-capable\" content=\"yes\">\\n  <meta name=\"application-name\" content=\"inshorts\">\\n  <link rel=\"icon\" sizes=\"192x192\" href=\"https://assets.inshorts.com/website_assets/images/favicon.png\">\\n\\n  <!-- Add to homescreen for Safari on iOS -->\\n  <meta name=\"apple-mobile-web-app-capable\" content=\"yes\">\\n  <meta name=\"apple-mobile-web-app-status-bar-style\" content=\"#424242\">\\n  <meta name=\"apple-mobile-web-app-title\" content=\"inshorts\">\\n  <link rel=\"apple-touch-icon\" href=\"https://assets.inshorts.com/website_assets/images/favicon.png\">\\n\\n  <!-- Tile icon for Win8 (144x144 + tile color) -->\\n  <meta name=\"msapplication-TileImage\" content=\"fav/favicon.png\">\\n  <meta name=\"msapplication-TileColor\" content=\"#424242\">\\n\\n  <meta name=\"theme-color\" content=\"#424242\">\\n  <meta http-equiv=\"content-type\" content=\"text/html; charset=UTF-8\"/>\\n  <meta name=\"msapplication-navbutton-color\" content=\"#424242\">\\n  <meta name=\"apple-mobile-web-app-status-bar-style\" content=\"#424242\">\\n  <link rel=\"apple-touch-startup-image\" href=\"https://assets.inshorts.com/website_assets/images/favicon.png\">\\n  <meta name=\"apple-mobile-web-app-status-bar-style\" content=\"black-translucent\">\\n  <link href=\"https://inshorts.com/en/news/modernas-early-data-shows-its-covid19-vaccine-is-945-effective-1605529838483\" rel=\"canonical\" />\\n  <link rel=\"amphtml\" href=\"https://inshorts.com/m/en/amp_news/modernas-early-data-shows-its-covid19-vaccine-is-945-effective-1605529838483\">\\n  <link href=\"https://inshorts.com/en/news/modernas-early-data-shows-its-covid19-vaccine-is-945-effective-1605529838483\" rel=\"alternate\" reflang=\"en\" />\\n  <meta name=\"description\" content=\"american biotechnology company moderna on monday announced its experimental vaccine was 945 effective in preventing covid19 based on interim data from a latestage clinical trial modernas interim analysis was based on 95 infections among trial participants who received either a placebo or the vaccine among those only five infections occurred in those who received the vaccine\"/>\\n\\n  <meta name=\"apple-itunes-app\" content=\"app-id=892146527\">\\n  <meta name=\"google-play-app\" content=\"app-id=com.nis.app\">\\n  <meta name=\"keywords\" content=\"modernas, early, data, shows, covid19, vaccine, effective, news, daily news, latest news, news online, current news, current affairs, world, Coronavirus, business, science\"/>\\n  \\n    <meta name=\"twitter:card\" content=\"summary_large_image\"/>\\n  <meta name=\"twitter:site\" content=\"@inshorts\"/>\\n  <meta name=\"twitter:creator\" content=\"@inshorts\"/>\\n  <meta name=\"twitter:title\" content=\"Moderna&#39;s early data shows its COVID-19 vaccine is 94.5% effective\"/>\\n  <meta name=\"twitter:description\" content=\"American biotechnology company Moderna on Monday announced its experimental vaccine was 94.5% effective in preventing COVID-19 based on interim data from a late-stage clinical trial. Moderna&#39;s interim analysis was based on 95 infections among trial participants who received either a placebo or the vaccine. Among those, only five infections occurred in those who received the vaccine.\"/>\\n  <meta name=\"twitter:image\" content=\"https://static.inshorts.com/inshorts/images/v1/variants/jpg/m/2020/11_nov/16_mon/img_1605528518608_510.jpg?\"/>\\n\\n  <head prefix=\"og: http://ogp.me/ns# fb: http://ogp.me/ns/fb# news-in-shorts: http://ogp.me/ns/fb/news-in-shorts#\">\\n<meta property=\"fb:app_id\" content=\"168662373317120\" /> \\n<meta property=\"og:site_name\" content=\"Inshorts - Stay Informed\"/>\\n<meta property=\"og:type\" content=\"news-in-shorts:short\">\\n<meta property=\"og:url\" content=\"https://inshorts.com/en/news/modernas-early-data-shows-its-covid19-vaccine-is-945-effective-1605529838483\" /> \\n<meta property=\"og:title\" content=\"Moderna&#39;s early data shows its COVID-19 vaccine is 94.5% effective\"/>\\n<meta property=\"og:image\" content=\"https://static.inshorts.com/inshorts/images/v1/variants/jpg/m/2020/11_nov/16_mon/img_1605528518608_510.jpg?\" /> \\n<meta property=\"og:description\" content=\"American biotechnology company Moderna on Monday announced its experimental vaccine was 94.5% effective in preventing COVID-19 based on interim data from a late-stage clinical trial. Moderna&#39;s interim analysis was based on 95 infections among trial participants who received either a placebo or the vaccine. Among those, only five infections occurred in those who received the vaccine.\" />\\n<meta property=\"og:updated_time\" content=\"1605529838000\" />\\n<meta property=\"og:rich_attachment\" content=\"true\" />\\n<meta property=\"al:web:should_fallback\" content=\"true\" />\\n\\n<meta property=\"al:ios:url\" content=\"nis://news/modernas-early-data-shows-its-covid19-vaccine-is-945-effective-1605529838483\" />\\n<meta property=\"al:ios:app_store_id\" content=\"892146527\" />\\n<meta property=\"al:ios:app_name\" content=\"Inshorts - Stay Informed\" />\\n\\n<meta property=\"al:iphone:url\" content=\"nis://news/modernas-early-data-shows-its-covid19-vaccine-is-945-effective-1605529838483\" />\\n<meta property=\"al:iphone:app_store_id\" content=\"892146527\" />\\n<meta property=\"al:iphone:app_name\" content=\"Inshorts - Stay Informed\" />\\n\\n<meta property=\"al:ipad:url\" content=\"nis://news/modernas-early-data-shows-its-covid19-vaccine-is-945-effective-1605529838483\" />\\n<meta property=\"al:ipad:app_store_id\" content=\"892146527\" />\\n<meta property=\"al:ipad:app_name\" content=\"Inshorts - Stay Informed\" />\\n\\n<meta property=\"al:android:url\" content=\"nis://en/news/modernas-early-data-shows-its-covid19-vaccine-is-945-effective-1605529838483\" />\\n<meta property=\"al:android:package\" content=\"com.nis.app\" />\\n<meta property=\"al:android:app_name\" content=\"Inshorts - Stay Informed\" />\\n  \\n  <title>Moderna&#39;s early data shows its COVID-19 vaccine is 94.5% effective | World News | Inshorts</title>\\n  <!-- CSS  -->\\n  <link href=\\'https://fonts.googleapis.com/css?family=Roboto\\' rel=\\'stylesheet\\' type=\\'text/css\\'>\\n  <link href=\"https://fonts.googleapis.com/icon?family=Material+Icons\" rel=\"stylesheet\">\\n  <link rel=\"stylesheet\" href=\"https://cdnjs.cloudflare.com/ajax/libs/materialize/0.97.1/css/materialize.min.css\">\\n  <link href=\\'https://fonts.googleapis.com/css?family=Hind:500,600,400&subset=latin,devanagari\\' rel=\\'stylesheet\\' type=\\'text/css\\'>\\n  <link href=\"/dist/styles/main.css\" type=\"text/css\" rel=\"stylesheet\" media=\"screen,projection\"/>\\n  <link href=\"/dist/styles/index.css\" type=\"text/css\" rel=\"stylesheet\" media=\"screen,projection\"/>\\n  <link href=\"/dist/styles/read.css\" type=\"text/css\" rel=\"stylesheet\" media=\"screen,projection\"/>\\n  <link href=\"/dist/styles/news-card.css\" type=\"text/css\" rel=\"stylesheet\" media=\"screen,projection\"/>\\n  <link rel=\"icon\" type=\"image/png\" href=\"https://assets.inshorts.com/website_assets/images/favicon.png\" />\\n</head>\\n<script>\\n  (function(i,s,o,g,r,a,m){i[\\'GoogleAnalyticsObject\\']=r;i[r]=i[r]||function(){\\n  (i[r].q=i[r].q||[]).push(arguments)},i[r].l=1*new Date();a=s.createElement(o),\\n  m=s.getElementsByTagName(o)[0];a.async=1;a.src=g;m.parentNode.insertBefore(a,m)\\n  })(window,document,\\'script\\',\\'//www.google-analytics.com/analytics.js\\',\\'ga\\');\\n\\n  ga(\\'create\\', \\'UA-55157535-6\\', \\'auto\\');\\n  ga(\\'send\\', \\'pageview\\');  \\n</script>\\n<!-- Facebook Pixel Code -->\\n  <script>\\n    !function(f,b,e,v,n,t,s)\\n    {if(f.fbq)return;n=f.fbq=function(){n.callMethod?\\n    n.callMethod.apply(n,arguments):n.queue.push(arguments)};\\n    if(!f._fbq)f._fbq=n;n.push=n;n.loaded=!0;n.version=\\'2.0\\';\\n    n.queue=[];t=b.createElement(e);t.async=!0;\\n    t.src=v;s=b.getElementsByTagName(e)[0];\\n    s.parentNode.insertBefore(t,s)}(window, document,\\'script\\',\\n    \\'https://connect.facebook.net/en_US/fbevents.js\\');\\n    fbq(\\'init\\', \\'822966517773327\\');\\n    fbq(\\'track\\', \\'PageView\\');\\n  </script>\\n  <noscript><img height=\"1\" width=\"1\" style=\"display:none\"\\n    src=\"https://www.facebook.com/tr?id=822966517773327&ev=PageView&noscript=1\"\\n  /></noscript>\\n  <!-- End Facebook Pixel Code -->\\n\\n<script async=\\'async\\' src=\\'https://www.googletagservices.com/tag/js/gpt.js\\'></script>\\n<script>\\n  var googletag = googletag || {};\\n  googletag.cmd = googletag.cmd || [];\\n  let top_banner_slot;\\n</script>\\n\\n<script>\\n  googletag.cmd.push(function() {\\n    \\n    \\n      //Top banner for desktop\\n      top_banner_slot = googletag.defineSlot(\\'/142919096/inshorts_website_728x90\\', [728, 90], \\'div-gpt-ad-1536585015617-0\\')\\n      .addService(googletag.pubads())\\n      .setCollapseEmptyDiv(true,true);\\n    \\n\\n    googletag.pubads().disableInitialLoad();\\n    googletag.pubads().enableSingleRequest();\\n    googletag.enableServices();\\n  });\\n</script>\\n\\n<body>\\n\\n\\n  <!-- Begin comScore Tag -->\\n  <script>\\n    var _comscore = _comscore || [];\\n    _comscore.push({ c1: \"2\", c2: \"28268321\" });\\n    (function() {\\n      var s = document.createElement(\"script\"), el = document.getElementsByTagName(\"script\")[0]; s.async = true;\\n      s.src = (document.location.protocol == \"https:\" ? \"https://sb\" : \"http://b\") + \".scorecardresearch.com/beacon.js\";\\n      el.parentNode.insertBefore(s, el);\\n    })();\\n  </script>\\n  <noscript>\\n    <img src=\"https://sb.scorecardresearch.com/p?c1=2&c2=28268321&cv=2.0&cj=1\" />\\n  </noscript>\\n  \\n  \\n  <!-- HEADER START -->\\n  <div class=\"header z-depth-1\">\\n    <div class=\"menu clickable\">\\n      <button class=\"c-hamburger c-hamburger--htx\" ><span>toggle menu</span></button><span class=\"unselectable\">Menu</span>\\n    </div>\\n    <!--\\n    <div class=\"search-wrapper hide-on-small-only\">\\n      <input class=\"search-box\" placeholder=\"Search\" id=\"search\"/>\\n      <i id=\"search_icon\" class=\"material-icons search-icon\">search</i>\\n      <div class=\"search-box-ul\">&nbsp;</div>\\n    </div>\\n    -->\\n    <a href=\"/\"><img src=\"https://assets.inshorts.com/website_assets/images/logo_inshorts.png\" class=\"logo\"/></a>\\n  </div>\\n  <!-- HEADER END -->\\n\\n  \\n<!--SIDEBAR START -->\\n    <div class=\"hide-on-med-and-up sidebar-bg\" style=\"display: none;\">&nbsp;</div>\\n    <div class=\"sidebar\" style=\"overflow-y: scroll;\">\\n      <div class=\"lang-bar\" style=\"\">\\n        <div class=\"lang-selector clickable\">\\n          <a href=\\'/en/read\\'><div class=\"lang-en selected\">English</div></a>\\n          <a href=\\'/hi/read\\'><div class=\"lang-hi \">हिन्दी</div></a>\\n        </div>\\n      </div>\\n\\n      <div>\\n        <div class=\"category-header\">Categories</div>\\n        <ul class=\"category-list\">\\n\\n          <a onclick=\"ga(\\'send\\', {\\'hitType\\': \\'event\\', \\'eventCategory\\': \\'LinkToAllNews\\', \\'eventAction\\': \\'clicked\\', \\'eventLabel\\': \\'RedirectedToAllNews\\' });\" href=\\'/en/read\\'> <li class=\"active-category selected\" >All News</li> </a>\\n\\n\\n          <a onclick=\"ga(\\'send\\', {\\'hitType\\': \\'event\\', \\'eventCategory\\': \\'LinkToIndiaNews\\', \\'eventAction\\': \\'clicked\\', \\'eventLabel\\': \\'RedirectedToIndiaNews\\' });\" href=\\'/en/read/national\\'> <li class=\"active-category \">India</li> </a>\\n\\n          <a onclick=\"ga(\"send\", {\"hitType\": \"event\", \"eventCategory\": \"LinkToIndiaNews\", \"eventAction\": \"clicked\", \"eventLabel\":  \"RedirectedToIndiaNews\" });\"  href=\\'/en/read/business\\'> <li class=\"active-category \">Business</li> </a>\\n\\n          <a onclick=\"ga(\\'send\\', {\\'hitType\\': \\'event\\', \\'eventCategory\\': \\'LinkTosportsNews\\', \\'eventAction\\': \\'clicked\\', \\'eventLabel\\': \\'RedirectedToSportsNews\\' });\"  href=\\'/en/read/sports\\'> <li class=\"active-category \">Sports</li> </a>\\n          <a onclick=\"ga(\\'send\\', {\\'hitType\\': \\'event\\', \\'eventCategory\\': \\'LinkToworldNews\\', \\'eventAction\\': \\'clicked\\', \\'eventLabel\\': \\'RedirectedToworldNews\\' });\" href=\\'/en/read/world\\'> <li class=\"active-category \">World</li> </a>\\n\\n          <a onclick=\"ga(\\'send\\', {\\'hitType\\': \\'event\\', \\'eventCategory\\': \\'LinkToworldNews\\', \\'eventAction\\': \\'clicked\\',   \\'eventLabel\\': \\'RedirectedToworldNews\\' });\"  href=\\'/en/read/politics\\'> <li class=\"active-category \">Politics</li> </a>\\n          <a onclick=\"ga(\\'send\\', {\\'hitType\\': \\'event\\', \\'eventCategory\\': \\'LinkTotechnologyNews\\', \\'eventAction\\': \\'clicked\\', \\'eventLabel\\': \\'RedirectedTotechnologyNews\\' });\" href=\\'/en/read/technology\\'> <li class=\"active-category \">Technology</li> </a>\\n\\n          <a onclick=\"ga(\\'send\\', {\\'hitType\\': \\'event\\', \\'eventCategory\\': \\'LinkTostartupNews\\', \\'eventAction\\': \\'clicked\\', \\'eventLabel\\': \\'RedirectedTostartupNews\\' });\"  href=\\'/en/read/startup\\'> <li class=\"active-category \">Startup</li> </a>\\n\\n\\n          <a onclick=\"ga(\\'send\\', {\\'hitType\\': \\'event\\', \\'eventCategory\\': \\'LinkToEntertainmentNews\\', \\'eventAction\\': \\'clicked\\', \\'eventLabel\\': \\'RedirectedToEntertainmentNews\\' });\"  href=\\'/en/read/entertainment\\'> <li class=\"active-category \">Entertainment</li> </a>\\n\\n\\n          <a onclick=\"ga(\\'send\\', {\\'hitType\\': \\'event\\', \\'eventCategory\\': \\'LinkToMiscellaneousNews\\', \\'eventAction\\': \\'clicked\\', \\'eventLabel\\': \\'RedirectedToMiscellaneousNews\\' });\"  href=\\'/en/read/miscellaneous\\'> <li class=\"active-category \">Miscellaneous</li> </a>\\n\\n          <a onclick=\"ga(\\'send\\', {\\'hitType\\': \\'event\\', \\'eventCategory\\': \\'LinkTohatkeNews\\', \\'eventAction\\': \\'clicked\\', \\'eventLabel\\': \\'RedirectedTohatkeNews\\' });\"  href=\\'/en/read/hatke\\'> <li class=\"active-category \">Hatke</li> </a>\\n\\n          <a onclick=\"ga(\\'send\\', {\\'hitType\\': \\'event\\', \\'eventCategory\\': \\'LinkToscienceNews\\', \\'eventAction\\': \\'clicked\\', \\'eventLabel\\': \\'RedirectedToscienceNews\\' });\"  href=\\'/en/read/science\\'> <li class=\"active-category \">Science</li> </a>\\n\\n          <a onclick=\"ga(\\'send\\', {\\'hitType\\': \\'event\\', \\'eventCategory\\': \\'LinkToautomobileNews\\', \\'eventAction\\': \\'clicked\\', \\'eventLabel\\': \\'RedirectedToautomobileNews\\' });\"  href=\\'/en/read/automobile\\'> <li class=\"active-category \">Automobile</li> </a>\\n\\n        </ul>\\n      </div>\\n    </div>\\n<!--SIDEBAR END --> \\n\\n  <!-- BODY START -->\\n  <div class=\"container\" style=\"min-height:550px;\">\\n    <div class=\"row\" style=\"padding-top:110px;\">\\n      \\n        <div id=\\'div-gpt-ad-1536585015617-0\\' style=\\'height:90px; width:728px;margin: auto; margin-bottom: 1%;\\'>\\n          <script>\\n          googletag.cmd.push(function() { \\n            googletag.display(\\'div-gpt-ad-1536585015617-0\\'); \\n            googletag.pubads().refresh([top_banner_slot]);\\n          });\\n          </script>\\n        </div>\\n      \\n      <div class=\"hide-on-med-and-down z-depth-1\" style=\"margin-left : auto;margin-right : auto;margin-bottom: 32px;width : 900px;height:48px;background: #f44336\">\\n        <div style=\"font-weight: 300;color:white !important;font-size:14px;margin-left: 48px;margin-top: 13px;position: absolute;display: block;\">\\n          For the best experience use <a target=\"_blank\" href=\"https://inshorts.com/mobile\" style=\"color:white;appearance: none;font-weight: 500;\">inshorts</a> app on your smartphone\\n        </div>\\n        \\n        <a onclick=\"ga(\\'send\\', {\\'hitType\\': \\'event\\', \\'eventCategory\\': \\'DownloadApp\\', \\'eventAction\\': \\'clicked\\', \\'eventLabel\\': \\'RedirectedToApplePlayStore\\' });\" target=\"_blank\" href=\"https://itunes.apple.com/us/app/news-in-shorts/id892146527\"><img class=\"col l2 m2\" src=\"https://assets.inshorts.com/website_assets/images/appstore.png\" style=\"margin-top:5px;margin-left:550px;\"/></a>\\n        \\n        \\n        <a onclick=\"ga(\\'send\\', {\\'hitType\\': \\'event\\', \\'eventCategory\\': \\'DownloadApp\\', \\'eventAction\\': \\'clicked\\', \\'eventLabel\\': \\'RedirectedToGooglePlayStore\\' });\" target=\"_blank\" href=\"https://play.google.com/store/apps/details?id=com.nis.app&referrer=utm_source%3DNews%2520In%2520Shorts%2520Website\"><img style=\"margin-top:5px;\" class=\"col l2 m2\" src=\"https://assets.inshorts.com/website_assets/images/playstore.png\"/></a>\\n        \\n      </div>\\n\\n      <div class=\"card-stack\">\\n        \\n        \\n\\n\\n\\n\\n\\n<div class=\"\">\\n<div class=\"news-card z-depth-1\" itemscope itemtype=\"http://schema.org/NewsArticle\">\\n  <span content=\"\" itemscope itemprop=\"mainEntityOfPage\" itemType=\"https://schema.org/WebPage\" itemid=\"https://inshorts.com/en/news/modernas-early-data-shows-its-covid19-vaccine-is-945-effective-1605529838483\"></span>\\n  <span itemtype=\"https://schema.org/Person\" itemscope=\"itemscope\" itemprop=\"author\">\\n    <span itemprop=\"name\" content=\"Pragya Swastik\"></span>\\n  </span>\\n  <span itemprop=\"description\" content=\"Moderna&#39;s early data shows its COVID-19 vaccine is 94.5% effective\"></span>\\n  <span itemprop=\"image\" itemscope itemtype=\"https://schema.org/ImageObject\">\\n    <meta itemprop=\"url\" content=\"https://static.inshorts.com/inshorts/images/v1/variants/jpg/m/2020/11_nov/16_mon/img_1605528518608_510.jpg?\"></meta>\\n    <meta itemprop=\"width\" content=\"864\"></meta>\\n    <meta itemprop=\"height\" content=\"483\"></meta>\\n  </span>\\n  <span itemtype=\"https://schema.org/Organization\" itemscope=\"itemscope\" itemprop=\"publisher\">\\n    <span itemprop=\"url\" content=\"https://inshorts.com/\"></span>\\n    <span itemprop=\"name\" content=\"Inshorts\"></span>\\n    <span itemprop=\"logo\" itemscope itemtype=\"https://schema.org/ImageObject\">\\n      <span itemprop=\"url\" content=\"https://assets.inshorts.com/inshorts/images/v1/variants/jpg/m/2018/11_nov/21_wed/img_1542823931298_497.jpg\"></span>\\n      <meta itemprop=\"width\" content=\"400\"></meta>\\n      <meta itemprop=\"height\" content=\"60\"></meta>\\n    </span>\\n  </span>\\n  <div class=\"news-card-image\" style= \"background-image: url(\\'https://static.inshorts.com/inshorts/images/v1/variants/jpg/m/2020/11_nov/16_mon/img_1605528518608_510.jpg?\\')\">\\n  </div>\\n  <div class=\"news-card-title news-right-box\">\\n    <a class=\"clickable\" onclick=\"ga(\\'send\\', {\\'hitType\\': \\'event\\', \\'eventCategory\\': \\'TitleOfNews\\', \\'eventAction\\': \\'clicked\\', \\'eventLabel\\': \\'Moderna&#39;s%20early%20data%20shows%20its%20COVID-19%20vaccine%20is%2094.5%25%20effective)\\' });\"  style=\"color:#44444d!important\" href=\"/en/news/modernas-early-data-shows-its-covid19-vaccine-is-945-effective-1605529838483\">\\n      <span itemprop=\"headline\">Moderna&#39;s early data shows its COVID-19 vaccine is 94.5% effective</span>\\n    </a>\\n    <div class=\"news-card-author-time news-card-author-time-in-title\">\\n      <a href=\"/prev/en/news/modernas-early-data-shows-its-covid19-vaccine-is-945-effective-1605529838483\"><span class=\"short\">short</span></a> by <span class=\"author\">Pragya Swastik</span> / \\n      <span class=\"time\" itemprop=\"datePublished\" content=\"2020-11-16T12:30:38.000Z\">06:00 pm</span> on <span clas=\"date\">16 Nov 2020,Monday</span>\\n    </div>\\n  </div>\\n  <div class=\"news-card-content news-right-box\">\\n    <div itemprop=\"articleBody\">American biotechnology company Moderna on Monday announced its experimental vaccine was 94.5% effective in preventing COVID-19 based on interim data from a late-stage clinical trial. Moderna&#39;s interim analysis was based on 95 infections among trial participants who received either a placebo or the vaccine. Among those, only five infections occurred in those who received the vaccine.</div>\\n    <div class=\"news-card-author-time news-card-author-time-in-content\">\\n      <a href=\"/prev/en/news/modernas-early-data-shows-its-covid19-vaccine-is-945-effective-1605529838483\"><span class=\"short\">short</span></a> by <span class=\"author\">Pragya Swastik</span> / \\n      <span class=\"time\" itemprop=\"dateModified\" content=\"2020-11-16T12:30:38.000Z\" >06:00 pm</span> on <span class=\"date\">16 Nov</span>\\n    </div>\\n  </div>\\n  \\n    <div class=\"news-card-footer news-right-box\">\\n      <div class=\"read-more\">read more at <a class=\"source\" onclick=\"ga(\\'send\\', {\\'hitType\\': \\'event\\', \\'eventCategory\\': \\'ReadMore\\', \\'eventAction\\': \\'clicked\\', \\'eventLabel\\': \\'Reuters\\' });\" target=\"_blank\" href=\"https://www.reuters.com/article/us-health-coronavirus-vaccines-moderna/moderna-says-its-vaccine-is-94-5-effective-in-preventing-covid-19-idUSKBN27W1E6?utm_campaign=fullarticle&amp;utm_medium=referral&amp;utm_source=inshorts \">Reuters</a></div>\\n    </div>\\n  \\n\\n</div>\\n\\n  \\n</div>\\n\\n        \\n      </div>\\n\\n      <div class=\"my-red app-download-pane hide-on-large-only\">\\n        <div class=\"container\">\\n          <div class=\"row\">\\n            <div class=\"col s12 center\" style=\"color:white;font-weight: 300;font-size:14px;margin-top: 28px;margin-bottom: 18px;\">\\n              For the best experience use <a target=\"_blank\" href=\"/mobile\" style=\"color:white;appearance: none;font-weight: 500;\">inshorts</a> app on your smartphone\\n            </div>\\n            \\n            \\n            <div class=\"col offset-s2 s8\">\\n              <a target=\"_blank\"  onclick=\"ga(\\'send\\', {\\'hitType\\': \\'event\\', \\'eventCategory\\': \\'DownloadApp\\', \\'eventAction\\': \\'clicked\\', \\'eventLabel\\': \\'RedirectedToGooglePlayStore\\' });\"  href=\"https://play.google.com/store/apps/details?id=com.nis.app&referrer=utm_source%3DNews%2520In%2520Shorts%2520Website\"><img class=\"col l4 m8 s12\" src=\"https://assets.inshorts.com/website_assets/images/playstore.png\"/></a>\\n            </div>\\n            \\n          </div>\\n        </div>\\n      </div>\\n\\n    </div>\\n  </div>\\n  <!-- BODY END -->\\n\\n  <footer class=\"page-footer teals\"> \\n  <div class=\"container\">\\n    <div class=\"row\" style=\"margin-bottom: 0px; padding-bottom: 5px;\">\\n\\n      <div class=\"col offset-l3 l3 m4 s12 right social-admin\">\\n        <div class=\"social-share\"><a onclick=\"ga(\\'send\\', {\\'hitType\\': \\'event\\', \\'eventCategory\\': \\'LinkToFaceBookPage\\', \\'eventAction\\': \\'clicked\\', \\'eventLabel\\': \\'RedirectedToFaceBook\\' });\" target=\"_blank\" href=\"https://www.facebook.com/inshortsapp\"><img src=\"https://assets.inshorts.com/website_assets/images/facebook.png\"/></a></div>\\n        <div class=\"social-share\"><a onclick=\"ga(\\'send\\', {\\'hitType\\': \\'event\\', \\'eventCategory\\': \\'LinkToTwitterPage\\', \\'eventAction\\': \\'clicked\\', \\'eventLabel\\': \\'RedirectedToTwitter\\' });\" target=\"_blank\" href=\"https://twitter.com/inshorts\"><img src=\"https://assets.inshorts.com/website_assets/images/twitter.png\"/></a></div>\\n        <div class=\"social-share\"><a onclick=\"ga(\\'send\\', {\\'hitType\\': \\'event\\', \\'eventCategory\\': \\'LinkToLinkedinPage\\', \\'eventAction\\': \\'clicked\\', \\'eventLabel\\': \\'RedirectedToLinkedin\\' });\" target=\"_blank\" href=\"https://www.linkedin.com/company/news-in-shorts\"><img src=\"https://assets.inshorts.com/website_assets/images/linkedin.png\"/></a></div>\\n      </div>\\n\\n\\n      <div class=\"col m4 l3 s6 footer-left-pane\">\\n        <div class=\"right\"><img width=\"160px\" height=\"48px\" src=\"https://assets.inshorts.com/website_assets/images/logo_footer.png\"/></div>\\n\\n        <div class=\"copy-text\" >\\n          <span><span style=\"color:#cfcfcf;font-family: \\'Conv_ClanPro-Bold\\'\">inshorts</span> medialabs pvt. ltd.</span><br/>\\n          &copy;<span style=\"font-size:12px\">COPYRIGHT 2020</span>\\n        </div>\\n      </div>\\n      <div class=\"col m4 l3 s6 footer-right-pane\">\\n        <div id=\"contactUsBtn\" class=\"left clickable\" style=\"margin-top: -5px;\"><img width=\"132px\" height=\"48px\" src=\"https://assets.inshorts.com/website_assets/images/contact_icon.png\"/></div>              \\n        <div class=\"terms-text\">\\n          <a class=\"tnc\" style=\"color: #fff;\" onclick=\"ga(\\'send\\', {\\'hitType\\': \\'event\\', \\'eventCategory\\': \\'LinkToTermsAndConditionsAndPP\\', \\'eventAction\\': \\'clicked\\', \\'eventLabel\\': \\'RedirectedToTermsAndConditions\\' });\" target=\"_blank\" href=\"/tnc\"><span>Terms &amp; conditions</span><br/>\\n          <span>Privacy Policies</span>\\n          </a>\\n          <br/>\\n          <a class=\"tnc\" style=\"color: #fff;\" onclick=\"ga(\\'send\\', {\\'hitType\\': \\'event\\', \\'eventCategory\\': \\'LinkToSitemap\\', \\'eventAction\\': \\'clicked\\', \\'eventLabel\\': \\'RedirectedToSitemap\\' });\" target=\"_blank\" href=\"/editorial_policy\">\\n          <span>Editorial Policy</span>\\n          </a>\\n        </div>\\n      </div>\\n    </div>\\n  </div>\\n  <div id=\"contactUsModal\" class=\"modal_contact row\">\\n    <!-- Modal content -->\\n      <div class=\"modal-content col l4 m4 s8 offset-s2 offset-l4 offset-m4\">\\n        <span class=\"close\">&times;</span>\\n        <div class=\"contact\">\\n          <a target=\"_blank\" href=\"mailto:careers@inshorts.com?subject=Inshorts%20website%20contact%20form\">\\n            <button id=\"myBtn\">Contact Hiring Team</button>\\n          </a>\\n        </div>\\n        <div class=\"contact\">\\n          <a target=\"_blank\" href=\"mailto:Admin@inshorts.com?subject=Inshorts%20website%20contact%20form\">\\n            <button id=\"myBtn\">Contact Admin Team</button>\\n          </a>\\n        </div>\\n        <div class=\"contact\">\\n          <a target=\"_blank\" href=\"mailto:Marketing@inshorts.com?subject=Inshorts%20website%20contact%20form\">\\n            <button id=\"myBtn\">Contact Marketing Team</button>\\n          </a>\\n        </div>\\n        <div class=\"contact\">\\n          <a target=\"_blank\" href=\"mailto:Editorial@inshorts.com?subject=Inshorts%20website%20contact%20form\">\\n            <button id=\"myBtn\">Contact Editorial Team</button>\\n          </a>\\n        </div>\\n        <div class=\"contact\">\\n          <a target=\"_blank\" href=\"mailto:Sales@inshorts.com?subject=Inshorts%20website%20contact%20form\">\\n            <button id=\"myBtn\">Contact Sales Team</button>\\n          </a>\\n        </div>\\n        <div class=\"contact\">\\n          <a target=\"_blank\" href=\"mailto:Contact@inshorts.com?subject=Inshorts%20website%20contact%20form\">\\n            <button id=\"myBtn\">Contact For Any Other Query</button>\\n          </a>\\n        </div>\\n      </div>\\n  </div>\\n</footer>\\n<script>\\nvar modal = document.getElementById(\\'contactUsModal\\');\\n\\n// Get the button that opens the modal\\nvar btn = document.getElementById(\"contactUsBtn\");\\n\\n// Get the <span> element that closes the modal\\nvar span = document.getElementsByClassName(\"close\")[0];\\n\\n// When the user clicks on the button, open the modal \\nbtn.onclick = function() {\\n    modal.style.display = \"block\";\\n}\\n\\n// When the user clicks on <span> (x), close the modal\\nspan.onclick = function() {\\n    modal.style.display = \"none\";\\n}\\n\\n// When the user clicks anywhere outside of the modal, close it\\nwindow.onclick = function(event) {\\n    if (event.target == modal) {\\n        modal.style.display = \"none\";\\n    }\\n}\\n</script>\\n\\n\\n  <!-- Eliminate render-blocking JavaScript and CSS in above-the-fold content -->\\n  <script type=\"text/javascript\" src=\"https://cdnjs.cloudflare.com/ajax/libs/jquery/3.0.0-alpha1/jquery.min.js\"></script>\\n  <script src=\"https://cdnjs.cloudflare.com/ajax/libs/materialize/0.97.0/js/materialize.min.js\"></script>\\n  <script type=\"text/javascript\" src=\"/dist/scripts/index.js\"></script>\\n  <script type=\"text/javascript\" src=\"/dist/scripts/read.js\"></script>\\n  \\n  <!-- Eliminate render-blocking JavaScript and CSS in above-the-fold content -->\\n\\n</body>\\n</html>\\n'"
      ]
     },
     "execution_count": 121,
     "metadata": {},
     "output_type": "execute_result"
    }
   ],
   "source": [
    "response.text"
   ]
  },
  {
   "cell_type": "code",
   "execution_count": 127,
   "metadata": {},
   "outputs": [],
   "source": [
    "url = 'https://inshorts.com/en/news/modernas-early-data-shows-its-covid19-vaccine-is-945-effective-1605529838483'\n",
    "news_category = url.split('/')[-1]\n",
    "data = get(url)\n",
    "soup = BeautifulSoup(data.content, 'html.parser')"
   ]
  },
  {
   "cell_type": "code",
   "execution_count": 133,
   "metadata": {},
   "outputs": [
    {
     "data": {
      "text/plain": [
       "\"Moderna's early data shows its COVID-19 vaccine is 94.5% effective\""
      ]
     },
     "execution_count": 133,
     "metadata": {},
     "output_type": "execute_result"
    }
   ],
   "source": [
    "# finding article headline\n",
    "soup.find('span', attrs={\"itemprop\": \"headline\"}).string"
   ]
  },
  {
   "cell_type": "code",
   "execution_count": 135,
   "metadata": {},
   "outputs": [
    {
     "data": {
      "text/plain": [
       "\"American biotechnology company Moderna on Monday announced its experimental vaccine was 94.5% effective in preventing COVID-19 based on interim data from a late-stage clinical trial. Moderna's interim analysis was based on 95 infections among trial participants who received either a placebo or the vaccine. Among those, only five infections occurred in those who received the vaccine.\""
      ]
     },
     "execution_count": 135,
     "metadata": {},
     "output_type": "execute_result"
    }
   ],
   "source": [
    "# finding article text\n",
    "soup.find('div', attrs={\"itemprop\": \"articleBody\"}).string"
   ]
  },
  {
   "cell_type": "code",
   "execution_count": 145,
   "metadata": {},
   "outputs": [
    {
     "data": {
      "text/plain": [
       "'Pragya Swastik'"
      ]
     },
     "execution_count": 145,
     "metadata": {},
     "output_type": "execute_result"
    }
   ],
   "source": [
    "# finding author\n",
    "soup.find('span', attrs={\"author\"}).string"
   ]
  },
  {
   "cell_type": "code",
   "execution_count": 151,
   "metadata": {},
   "outputs": [
    {
     "data": {
      "text/plain": [
       "'16 Nov'"
      ]
     },
     "execution_count": 151,
     "metadata": {},
     "output_type": "execute_result"
    }
   ],
   "source": [
    "# finding date\n",
    "soup.find('span', attrs={\"date\"}).string"
   ]
  },
  {
   "cell_type": "code",
   "execution_count": 138,
   "metadata": {},
   "outputs": [
    {
     "data": {
      "text/plain": [
       "'news'"
      ]
     },
     "execution_count": 138,
     "metadata": {},
     "output_type": "execute_result"
    }
   ],
   "source": [
    "# category as assigned in url\n",
    "url.split('/')[-2]"
   ]
  },
  {
   "cell_type": "code",
   "execution_count": 165,
   "metadata": {},
   "outputs": [],
   "source": [
    "def get_inshorts_dataset(urls, cached=False):\n",
    "    '''\n",
    "    Function to scape articles from Inshorts.com; If cached == False, runs code to scrape data\n",
    "    from chosen url articles, add to dictionary, save as df in json file. If cached == True,\n",
    "    reads the saved json file to a df.\n",
    "    '''\n",
    "    # if cached, we read already saved json file to df\n",
    "    if cached == True:\n",
    "        articles = pd.read_json('inshorts_articles.json')\n",
    "\n",
    "    # cached == False, if we don't have the data or we want to resave with any new data\n",
    "    else:\n",
    "        \n",
    "        # empty list to add individual article dictionaries to\n",
    "        articles = []\n",
    "        \n",
    "        # loops through selected articles from Inshorts\n",
    "        for article in urls:\n",
    "            \n",
    "            # dictionary for acrticle and information we are going to find\n",
    "            article_dict = {'headline':'','author':'','date':'','article':'','category':''}\n",
    "            \n",
    "            # web scraping\n",
    "            headers = {'User-Agent': 'Inshorts'}\n",
    "            data = get(article, headers)\n",
    "            # takes URL and returns a soup object of the text\n",
    "            soup = BeautifulSoup(data.text)\n",
    "\n",
    "            # specific article information to add to dictionary\n",
    "            article_dict['headline'] = soup.find('span', attrs={\"itemprop\": \"headline\"}).string\n",
    "            article_dict['author'] = soup.find('span', attrs={\"author\"}).string\n",
    "            article_dict['date'] = soup.find('span', attrs={\"date\"}).string\n",
    "            article_dict['article'] = soup.find('div', attrs={\"itemprop\": \"articleBody\"}).string\n",
    "            article_dict['category'] = url.split('/')[-2]\n",
    "            \n",
    "            # adding dictionary to list\n",
    "            articles.append(article_dict)\n",
    "\n",
    "        # converting list of dictionaries to a df\n",
    "        articles = pd.DataFrame(articles)\n",
    "        articles = articles[['headline', 'author','date','article', 'category']]\n",
    "        # Write df to a json file for faster access\n",
    "        articles.to_json('inshorts_articles.json')\n",
    "        \n",
    "    return articles"
   ]
  },
  {
   "cell_type": "code",
   "execution_count": 166,
   "metadata": {},
   "outputs": [
    {
     "ename": "AttributeError",
     "evalue": "'NoneType' object has no attribute 'string'",
     "output_type": "error",
     "traceback": [
      "\u001b[0;31m---------------------------------------------------------------------------\u001b[0m",
      "\u001b[0;31mAttributeError\u001b[0m                            Traceback (most recent call last)",
      "\u001b[0;32m<ipython-input-166-2d9ecd269034>\u001b[0m in \u001b[0;36m<module>\u001b[0;34m\u001b[0m\n\u001b[1;32m      3\u001b[0m        'https://inshorts.com/en/news/michelle-would-leave-me-obama-on-taking-a-position-in-bidens-cabinet-1605513396532']\n\u001b[1;32m      4\u001b[0m \u001b[0;34m\u001b[0m\u001b[0m\n\u001b[0;32m----> 5\u001b[0;31m \u001b[0mget_inshorts_dataset\u001b[0m\u001b[0;34m(\u001b[0m\u001b[0murls\u001b[0m\u001b[0;34m)\u001b[0m\u001b[0;34m\u001b[0m\u001b[0;34m\u001b[0m\u001b[0m\n\u001b[0m",
      "\u001b[0;32m<ipython-input-165-1019132fc0a7>\u001b[0m in \u001b[0;36mget_inshorts_dataset\u001b[0;34m(urls, cached)\u001b[0m\n\u001b[1;32m     28\u001b[0m \u001b[0;34m\u001b[0m\u001b[0m\n\u001b[1;32m     29\u001b[0m             \u001b[0;31m# specific article information to add to dictionary\u001b[0m\u001b[0;34m\u001b[0m\u001b[0;34m\u001b[0m\u001b[0;34m\u001b[0m\u001b[0m\n\u001b[0;32m---> 30\u001b[0;31m             \u001b[0marticle_dict\u001b[0m\u001b[0;34m[\u001b[0m\u001b[0;34m'headline'\u001b[0m\u001b[0;34m]\u001b[0m \u001b[0;34m=\u001b[0m \u001b[0msoup\u001b[0m\u001b[0;34m.\u001b[0m\u001b[0mfind\u001b[0m\u001b[0;34m(\u001b[0m\u001b[0;34m'span'\u001b[0m\u001b[0;34m,\u001b[0m \u001b[0mattrs\u001b[0m\u001b[0;34m=\u001b[0m\u001b[0;34m{\u001b[0m\u001b[0;34m\"itemprop\"\u001b[0m\u001b[0;34m:\u001b[0m \u001b[0;34m\"headline\"\u001b[0m\u001b[0;34m}\u001b[0m\u001b[0;34m)\u001b[0m\u001b[0;34m.\u001b[0m\u001b[0mstring\u001b[0m\u001b[0;34m\u001b[0m\u001b[0;34m\u001b[0m\u001b[0m\n\u001b[0m\u001b[1;32m     31\u001b[0m             \u001b[0marticle_dict\u001b[0m\u001b[0;34m[\u001b[0m\u001b[0;34m'author'\u001b[0m\u001b[0;34m]\u001b[0m \u001b[0;34m=\u001b[0m \u001b[0msoup\u001b[0m\u001b[0;34m.\u001b[0m\u001b[0mfind\u001b[0m\u001b[0;34m(\u001b[0m\u001b[0;34m'span'\u001b[0m\u001b[0;34m,\u001b[0m \u001b[0mattrs\u001b[0m\u001b[0;34m=\u001b[0m\u001b[0;34m{\u001b[0m\u001b[0;34m\"author\"\u001b[0m\u001b[0;34m}\u001b[0m\u001b[0;34m)\u001b[0m\u001b[0;34m.\u001b[0m\u001b[0mstring\u001b[0m\u001b[0;34m\u001b[0m\u001b[0;34m\u001b[0m\u001b[0m\n\u001b[1;32m     32\u001b[0m             \u001b[0marticle_dict\u001b[0m\u001b[0;34m[\u001b[0m\u001b[0;34m'date'\u001b[0m\u001b[0;34m]\u001b[0m \u001b[0;34m=\u001b[0m \u001b[0msoup\u001b[0m\u001b[0;34m.\u001b[0m\u001b[0mfind\u001b[0m\u001b[0;34m(\u001b[0m\u001b[0;34m'span'\u001b[0m\u001b[0;34m,\u001b[0m \u001b[0mattrs\u001b[0m\u001b[0;34m=\u001b[0m\u001b[0;34m{\u001b[0m\u001b[0;34m\"date\"\u001b[0m\u001b[0;34m}\u001b[0m\u001b[0;34m)\u001b[0m\u001b[0;34m.\u001b[0m\u001b[0mstring\u001b[0m\u001b[0;34m\u001b[0m\u001b[0;34m\u001b[0m\u001b[0m\n",
      "\u001b[0;31mAttributeError\u001b[0m: 'NoneType' object has no attribute 'string'"
     ]
    }
   ],
   "source": [
    "urls = ['https://inshorts.com/en/news/15-countries-sign-worlds-biggest-freetrade-pact-which-india-left-last-year-1605430233640'\n",
    "       'https://inshorts.com/en/news/olympic-medalist-working-as-delivery-boy-to-generate-income-amid-covid19-1605507634906'\n",
    "       'https://inshorts.com/en/news/michelle-would-leave-me-obama-on-taking-a-position-in-bidens-cabinet-1605513396532']\n",
    "\n",
    "get_inshorts_dataset(urls)"
   ]
  },
  {
   "cell_type": "markdown",
   "metadata": {},
   "source": [
    "3. Bonus: cache the data\n",
    "\n",
    "Write your code such that the acquired data is saved locally in some form or fashion. Your functions that retrieve the data should prefer to read the local data instead of having to make all the requests everytime the function is called. Include a boolean flag in the functions to allow the data to be acquired \"fresh\" from the actual sources (re-writing your local cache)."
   ]
  }
 ],
 "metadata": {
  "kernelspec": {
   "display_name": "Python 3",
   "language": "python",
   "name": "python3"
  },
  "language_info": {
   "codemirror_mode": {
    "name": "ipython",
    "version": 3
   },
   "file_extension": ".py",
   "mimetype": "text/x-python",
   "name": "python",
   "nbconvert_exporter": "python",
   "pygments_lexer": "ipython3",
   "version": "3.7.6"
  }
 },
 "nbformat": 4,
 "nbformat_minor": 4
}
